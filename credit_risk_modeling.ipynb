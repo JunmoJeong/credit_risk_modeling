{
  "nbformat": 4,
  "nbformat_minor": 0,
  "metadata": {
    "colab": {
      "name": "credit_risk_modeling.ipynb",
      "provenance": [],
      "mount_file_id": "1QOjxKrDxcpNxMIy_TDDgBF5zNdIaBKWe",
      "authorship_tag": "ABX9TyOYXr58RqyoJFSsCwwV3V6t",
      "include_colab_link": true
    },
    "kernelspec": {
      "name": "python3",
      "display_name": "Python 3"
    },
    "language_info": {
      "name": "python"
    }
  },
  "cells": [
    {
      "cell_type": "markdown",
      "metadata": {
        "id": "view-in-github",
        "colab_type": "text"
      },
      "source": [
        "<a href=\"https://colab.research.google.com/github/JunmoJeong/credit_risk_modeling/blob/main/credit_risk_modeling.ipynb\" target=\"_parent\"><img src=\"https://colab.research.google.com/assets/colab-badge.svg\" alt=\"Open In Colab\"/></a>"
      ]
    },
    {
      "cell_type": "code",
      "metadata": {
        "id": "BTsE0hSzHDAQ"
      },
      "source": [
        "'''\n",
        "채무 불이행 예측\n",
        "문제를 정의하고 사용 사례를 이해하고 나면 개발하기 쉽다.\n",
        "금융기관은 채무자가 미래에 대출을 갚기에 충분한 돈을 지니게 될지 여부를 조사한다. \n",
        "분석 ouput은 확률이다. (채무자의 채무 불이행 가능성)\n",
        "여기서 확률은 고객이 제때 대출에 대한 월별 상환액(EMI)을 지불하지 않을 가능성을 나타낸다.\n",
        "\n",
        "높은 확률 값은 고객이 금융기관의 채무 불이행자 또는 부적합 채무자가 될 가능성을 나타낸다. \n",
        "'''"
      ],
      "execution_count": null,
      "outputs": []
    },
    {
      "cell_type": "code",
      "metadata": {
        "id": "pUT32jwwZCqd"
      },
      "source": [
        "'''\n",
        "Dependency Libraries\n",
        "Python 2.7\n",
        "pandas\n",
        "numpy\n",
        "scipy\n",
        "scikit-learn\n",
        "matplotlib\n",
        "seaborn\n",
        "jupyter notebook\n",
        "\n",
        "'''"
      ],
      "execution_count": null,
      "outputs": []
    },
    {
      "cell_type": "code",
      "metadata": {
        "id": "Tk7iLtDKHf1z"
      },
      "source": [
        ""
      ],
      "execution_count": null,
      "outputs": []
    },
    {
      "cell_type": "markdown",
      "metadata": {
        "id": "JaVAJqo9ZuGm"
      },
      "source": [
        "# 데이터 특성\n"
      ]
    },
    {
      "cell_type": "code",
      "metadata": {
        "id": "jXfj98ReZw8v"
      },
      "source": [
        "'''\n",
        "cs-training.csv : 훈련 데이터셋\n",
        "cs-test.csv : 테스트 데이터셋\n",
        "DataDictionary.xls : 데이터셋의 각 특성에 대한 정보가 들어있다. \n",
        "sampleEntry.csv : 테스트 데이터셋의 최종 출력을 생성해야 하는 형식에 대한 내용.\n",
        "\n",
        "'''"
      ],
      "execution_count": null,
      "outputs": []
    },
    {
      "cell_type": "markdown",
      "metadata": {
        "id": "7HlTcnTLno4P"
      },
      "source": [
        "### SeriousDlqin2yrs \n",
        ": 채무자가 지난 2년간 90일까지 기한 경과 했는지에 대한 여부\n",
        "target label이다.\n",
        "\n",
        "### RevolvingUtilizationOfUnsecuredLines\n",
        ": 현재의 대출 채무 및 부동산을 제외한 채무자의 신용카드 한도\n",
        "계정 보유자의 신용 잔고 및 개인 계좌 잔고를 사용\n",
        "ex) 카드 한도 1000 카드 500 사용 후 잔고 500 + 1000(은행 계좌 잔고)\n",
        "값은 : 1500(사용가능) / 2000(총 금액) = 0.75\n",
        "\n",
        "### Age\n",
        ": 채무자 나이\n",
        "\n",
        "### NumberOfTime30-59DaysPastDueNotWorse\n",
        ": 채무자가 늦게라도 원리금 납부 지불했지만 만기일로부터 30일이 지난 후 또는 만기일로부터 59일이 지나기 전에 지불한 횟수\n",
        "\n",
        "### DebtRatio\n",
        ": 부채 비율\n",
        "ex) 월간 부채가 200, 다른 지출이 500이면 월 소득이 1000이라고 치면 \n",
        "DebtRatio는 700/1000 = 0.7\n",
        "\n",
        "### MontlyIncome\n",
        ": 월간 소득\n",
        "\n",
        "### NumberOfOpenCreditLinesAndLoans\n",
        ": 마이너스 통장 개수 및 신용카드 개수\n",
        "\n",
        "### NumberOfTimes90DaysLate\n",
        ": 채무자가 자신의 원리금 납부를 하고나서 90일 후에 미지급금을 지불한 횟수\n",
        "\n",
        "### NumberRealEstateLoansOrLines\n",
        ": 채무자가 부동산 담보 대출 개수 또는 주택 담보 대출 개수\n",
        "\n",
        "### NumberOfTimes60-89DaysPastDueNotWorse\n",
        ": 채무자가 늦게 원리금을 지불햇지만 만기일로부터 60일이 지난 후 또는 만기일로부터 89일이 지나기 전에 지불한 횟수\n",
        "\n",
        "### NumberOfDependents\n",
        ": 부양가족 수(채무자 제외)\n",
        "\n"
      ]
    },
    {
      "cell_type": "code",
      "metadata": {
        "id": "dZ7gu5fHnrrJ"
      },
      "source": [
        ""
      ],
      "execution_count": null,
      "outputs": []
    }
  ]
}